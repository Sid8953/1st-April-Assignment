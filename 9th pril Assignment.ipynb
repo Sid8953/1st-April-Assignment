{
 "cells": [
  {
   "cell_type": "markdown",
   "id": "34880ad3-0c7e-482d-af4d-09ce3ca17764",
   "metadata": {},
   "source": [
    "# Question 1 : What is Bayes' theorem?"
   ]
  },
  {
   "cell_type": "markdown",
   "id": "f99feecd-36de-44cd-a549-6cbb73601198",
   "metadata": {},
   "source": [
    "Bayes' theorem is a way of updating our beliefs about the likelihood of something happening, based on new information that we receive.\n",
    "\n",
    "For example, let's say that you want to know the likelihood of catching a cold. You know that the probability of catching a cold is generally low, but it increases if you are exposed to someone who already has a cold.\n",
    "\n",
    "Now, suppose you learn that your co-worker has just come down with a cold. This new information changes your initial belief about the likelihood of catching a cold. Bayes' theorem helps you to update your belief by taking into account the new information.\n",
    "\n",
    "In essence, Bayes' theorem is a mathematical formula that allows you to calculate the probability of something happening, given what you know about the situation. It's a tool that can help you make better decisions by incorporating new information and updating your beliefs accordingly."
   ]
  },
  {
   "cell_type": "markdown",
   "id": "091e397d-06b2-4ab1-9855-f78fbdb2c368",
   "metadata": {},
   "source": [
    "# Question 2 : What is formula for Bayes Theorem?"
   ]
  },
  {
   "attachments": {
    "567968de-2a84-49b6-a1bf-a72772ffd1a2.png": {
     "image/png": "[encoded data removed]"
    }
   },
   "cell_type": "markdown",
   "id": "73d5a7f4-816e-4921-8069-563d580bf762",
   "metadata": {},
   "source": [
    "### The formula for Bayes' theorem can be stated as follows:\n",
    "\n",
    "![image.png](attachment:567968de-2a84-49b6-a1bf-a72772ffd1a2.png)\n",
    "\n",
    "### Where:\n",
    "\n",
    "P(A|B) is the probability of event A given that event B has occurred\n",
    "\n",
    "P(B|A) is the probability of event B given that event A has occurred\n",
    "\n",
    "P(A) is the prior probability of event A\n",
    "\n",
    "P(B) is the prior probability of event B\n",
    "\n",
    "### In other words, Bayes' theorem tells us how to calculate the probability of A, given the probability of B and the conditional probability of B given A. It allows us to update our beliefs about the probability of A in light of new evidence B."
   ]
  },
  {
   "cell_type": "markdown",
   "id": "1649e883-d9d4-431d-b187-6e83e5ba45c2",
   "metadata": {},
   "source": [
    "# Question 3 : How is Bayes' theorem used in practice?"
   ]
  },
  {
   "cell_type": "markdown",
   "id": "bb8b3687-e1bd-4194-91fb-d280e11f8335",
   "metadata": {},
   "source": [
    "### Bayes' theorem is used in a wide range of practical applications, from medical diagnosis to spam filtering. Here are a few examples:\n",
    "\n",
    "1. Medical diagnosis: Bayes' theorem can be used to calculate the probability of a patient having a particular disease, based on their symptoms and other diagnostic tests. For example, if a patient presents with a certain set of symptoms, a doctor can use Bayes' theorem to calculate the probability of a specific disease, and then order additional tests to confirm the diagnosis.\n",
    "\n",
    "2. Spam filtering: Bayes' theorem can be used to classify emails as spam or non-spam. The algorithm looks at the words in the email and calculates the probability that the email is spam, based on the frequency of words that are commonly found in spam emails.\n",
    "\n",
    "3. Risk assessment: Bayes' theorem can be used to assess the risk of a particular event occurring, such as a natural disaster or a terrorist attack. The probability of the event can be estimated based on historical data and other relevant information, and then used to inform decision-making and risk management strategies.\n",
    "\n",
    "4. Machine learning: Bayes' theorem is used in various machine learning algorithms, such as Naive Bayes classifiers, which can be trained to predict the probability of a certain outcome based on a set of input variables.\n",
    "\n",
    "### In all of these applications, Bayes' theorem allows us to update our beliefs and make more informed decisions based on new information."
   ]
  },
  {
   "cell_type": "markdown",
   "id": "1533190f-9ea0-41cc-84f7-387c3146a56f",
   "metadata": {},
   "source": [
    "# Question 4 : What is the relationship between Bayes' theorem and conditional probability?"
   ]
  },
  {
   "cell_type": "markdown",
   "id": "d140a13f-a5e0-4276-b38a-1609b3f40208",
   "metadata": {},
   "source": [
    "Bayes' theorem is essentially a statement about conditional probability. It provides a way to calculate the conditional probability of an event A, given some new information or evidence B.\n",
    "\n",
    "The formula for Bayes' theorem involves two conditional probabilities: P(A|B) and P(B|A). P(A|B) represents the probability of A given that B has occurred, while P(B|A) represents the probability of B given that A has occurred.\n",
    "\n",
    "Bayes' theorem tells us how to calculate the probability of A given B, based on these two conditional probabilities and the prior probabilities of A and B. In other words, it tells us how to update our beliefs about the probability of A, based on the new information provided by B.\n",
    "\n",
    "So, in essence, Bayes' theorem is a tool for working with conditional probabilities, and is particularly useful when we need to update our beliefs in light of new evidence or information."
   ]
  },
  {
   "cell_type": "markdown",
   "id": "6e46f837-7a58-479f-bf8f-73b91d261fe9",
   "metadata": {},
   "source": [
    "# Question 5 : How do you choose which type of Naive Bayes classifier to use for any given problem?"
   ]
  },
  {
   "cell_type": "markdown",
   "id": "d51460f0-9acb-4f91-a895-34802cf4d05a",
   "metadata": {},
   "source": [
    "### When selecting a type of Naive Bayes classifier to use for a given problem, there are several factors to consider, including:\n",
    "\n",
    "1. Nature of the problem: The type of Naive Bayes classifier you choose may depend on the nature of the problem you are trying to solve. For example, if you are working with text classification, you may choose a Multinomial Naive Bayes classifier, while if you are working with continuous data, you may choose a Gaussian Naive Bayes classifier.\n",
    "\n",
    "2. Distribution of the data: The distribution of the data may also influence your choice of classifier. If the data is normally distributed, a Gaussian Naive Bayes classifier may be appropriate, while if the data has a categorical distribution, a Multinomial Naive Bayes classifier may be more appropriate.\n",
    "\n",
    "3. Size and quality of the dataset: The size and quality of the dataset may also influence your choice of classifier. If you have a small dataset, a Multinomial Naive Bayes classifier may be more robust, while if you have a large dataset, a Gaussian Naive Bayes classifier may be more efficient.\n",
    "\n",
    "4. Performance requirements: The performance requirements of the problem may also influence your choice of classifier. If you need a fast classifier that can handle large volumes of data, a Bernoulli Naive Bayes classifier may be appropriate, while if you need a more accurate classifier, a Gaussian Naive Bayes classifier may be more suitable.\n",
    "\n",
    "### In general, it's a good idea to experiment with different types of Naive Bayes classifiers and evaluate their performance on your specific problem, using metrics such as accuracy, precision, recall, and F1 score. This can help you determine which classifier is best suited to your needs."
   ]
  },
  {
   "attachments": {
    "987b1955-d6a4-49d2-acc5-010cd83cd4a1.png": {
     "image/png": "[encoded data removed]"
    }
   },
   "cell_type": "markdown",
   "id": "bbb9fd06-e150-4820-8733-20060bae32d8",
   "metadata": {},
   "source": [
    "# Question 6 : Assignment:\n",
    "You have a dataset with two features, X1 and X2, and two possible classes, A and B. You want to use Naive Bayes to classify a new instance with features X1 = 3 and X2 = 4. The following table shows the frequency of each feature value for each class:\n",
    "\n",
    "![image.png](attachment:987b1955-d6a4-49d2-acc5-010cd83cd4a1.png)\n",
    "  \n",
    "Assuming equal prior probabilities for each class, which class would Naive Bayes predict the new instance to belong to?"
   ]
  },
  {
   "cell_type": "markdown",
   "id": "7692e0e6-cc34-4efa-8a01-a5ad49511209",
   "metadata": {},
   "source": [
    "### To classify the new instance with features X1 = 3 and X2 = 4 using Naive Bayes, we need to calculate the posterior probabilities for each class, given these feature values. We can do this using Bayes' theorem:\n",
    "\n",
    "   P(A|X1=3,X2=4) = P(X1=3,X2=4|A) * P(A) / P(X1=3,X2=4)\n",
    "\n",
    "   P(B|X1=3,X2=4) = P(X1=3,X2=4|B) * P(B) / P(X1=3,X2=4)\n",
    "\n",
    "### Since the prior probabilities for A and B are assumed to be equal, we can simplify this to:\n",
    "\n",
    "   P(A|X1=3,X2=4) = P(X1=3,X2=4|A) / P(X1=3,X2=4)\n",
    "\n",
    "   P(B|X1=3,X2=4) = P(X1=3,X2=4|B) / P(X1=3,X2=4)\n",
    "   \n",
    "### To calculate the probabilities, we need to use the Naive Bayes assumption that the features are conditionally independent, given the class. This allows us to factorize the joint probability distribution as follows:\n",
    "\n",
    "   P(X1=3,X2=4|A) = P(X1=3|A) * P(X2=4|A)\n",
    "\n",
    "   P(X1=3,X2=4|B) = P(X1=3|B) * P(X2=4|B)\n",
    "   \n",
    "### We can estimate these probabilities from the frequency table provided:\n",
    "   P(X1=3|A) = 4/10\n",
    "\n",
    "   P(X1=3|B) = 1/7\n",
    "\n",
    "   P(X2=4|A) = 3/10\n",
    "\n",
    "   P(X2=4|B) = 1/7\n",
    "   \n",
    "### To calculate the denominator, we need to use the law of total probability:\n",
    "\n",
    "   P(X1=3,X2=4) = P(X1=3,X2=4|A) * P(A) + P(X1=3,X2=4|B) * P(B)\n",
    "   \n",
    "### We can estimate these probabilities from the frequency table provided:\n",
    "\n",
    "   P(X1=3,X2=4|A) = P(X1=3|A) * P(X2=4|A) = (4/10) * (3/10) = 12/100\n",
    "\n",
    "   P(X1=3,X2=4|B) = P(X1=3|B) * P(X2=4|B) = (1/7) * (1/7) = 1/49\n",
    "\n",
    "   P(A) = P(B) = 0.5\n",
    "   \n",
    "### Therefore:\n",
    "\n",
    "   P(X1=3,X2=4) = (12/100) * 0.5 + (1/49) * 0.5 = 0.124\n",
    "   \n",
    "### Now we can plug these values into the formula for the posterior probabilities:\n",
    "\n",
    "  P(A|X1=3,X2=4) = (4/10) * (3/10) / 0.124 = 0.967\n",
    "\n",
    "  P(B|X1=3,X2=4) = (1/7) * (1/7) / 0.124 = 0.033\n",
    "  \n",
    "### Therefore, Naive Bayes would predict that the new instance with features X1=3 and X2=4 belongs to class A, since it has a much higher posterior probability than class B."
   ]
  },
  {
   "cell_type": "code",
   "execution_count": null,
   "id": "93dd9f53-1b44-4ac3-b226-dd6f40170173",
   "metadata": {},
   "outputs": [],
   "source": []
  }
 ],
 "metadata": {
  "kernelspec": {
   "display_name": "Python 3 (ipykernel)",
   "language": "python",
   "name": "python3"
  },
  "language_info": {
   "codemirror_mode": {
    "name": "ipython",
    "version": 3
   },
   "file_extension": ".py",
   "mimetype": "text/x-python",
   "name": "python",
   "nbconvert_exporter": "python",
   "pygments_lexer": "ipython3",
   "version": "3.10.8"
  }
 },
 "nbformat": 4,
 "nbformat_minor": 5
}
